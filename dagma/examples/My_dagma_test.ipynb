{
 "cells": [
  {
   "attachments": {},
   "cell_type": "markdown",
   "metadata": {},
   "source": [
    "### Import packages"
   ]
  },
  {
   "cell_type": "code",
   "execution_count": 3,
   "metadata": {},
   "outputs": [],
   "source": [
    "import torch\n",
    "from dagma import utils\n",
    "from dagma.linear import DagmaLinear\n",
    "from dagma.nonlinear import DagmaMLP, DagmaNonlinear\n",
    "# Import pandas\n",
    "import pandas as pd\n",
    "import networkx as nx\n",
    "from matplotlib import pyplot as plt\n",
    "import math"
   ]
  },
  {
   "cell_type": "code",
   "execution_count": 4,
   "metadata": {},
   "outputs": [
    {
     "name": "stdout",
     "output_type": "stream",
     "text": [
      "   Unnamed: 0   A    S    T   L    B    E    X    D\n",
      "0           1  no  yes   no  no  yes   no   no  yes\n",
      "1           2  no  yes   no  no   no   no   no   no\n",
      "2           3  no   no  yes  no   no  yes  yes  yes\n",
      "3           4  no   no   no  no  yes   no   no  yes\n",
      "4           5  no   no   no  no   no   no   no  yes\n"
     ]
    }
   ],
   "source": [
    "# reading csv file\n",
    "df = pd.read_csv(\"../data/asia.csv\")\n",
    "print(df.head())\n",
    "\n",
    "df = df.replace({'yes': 1, 'no': 0})\n",
    "# Remove column name 'A'\n",
    "df=df.drop(columns=df.columns[0],axis=1)"
   ]
  },
  {
   "attachments": {},
   "cell_type": "markdown",
   "metadata": {},
   "source": [
    "### Generate data"
   ]
  },
  {
   "cell_type": "code",
   "execution_count": 11,
   "metadata": {},
   "outputs": [
    {
     "name": "stdout",
     "output_type": "stream",
     "text": [
      "5000\n",
      "          A      S         T         L         B         E       X         D\n",
      "0  4.771088  0.012  4.724165  2.649822  0.039205  2.526809  2.0525 -0.120144\n",
      "1  4.771088  0.012  4.724165  2.649822 -0.039205  2.526809  2.0525  0.120144\n",
      "2  4.771088 -0.012 -4.724165  2.649822 -0.039205 -2.526809 -2.0525 -0.120144\n",
      "3  4.771088 -0.012  4.724165  2.649822  0.039205  2.526809  2.0525 -0.120144\n",
      "4  4.771088 -0.012  4.724165  2.649822 -0.039205  2.526809  2.0525 -0.120144\n",
      "   A  S  T  L  B  E  X  D\n",
      "0  0  1  0  0  1  0  0  1\n",
      "1  0  1  0  0  0  0  0  0\n",
      "2  0  0  1  0  0  1  1  1\n",
      "3  0  0  0  0  1  0  0  1\n",
      "4  0  0  0  0  0  0  0  1\n",
      "[[ 4.77108809  0.01200014  4.72416461 ...  2.52680914  2.05250014\n",
      "  -0.12014431]\n",
      " [ 4.77108809  0.01200014  4.72416461 ...  2.52680914  2.05250014\n",
      "   0.12014431]\n",
      " [ 4.77108809 -0.01200014 -4.72416461 ... -2.52680914 -2.05250014\n",
      "  -0.12014431]\n",
      " ...\n",
      " [ 4.77108809 -0.01200014  4.72416461 ...  2.52680914  2.05250014\n",
      "   0.12014431]\n",
      " [ 4.77108809  0.01200014  4.72416461 ...  2.52680914  2.05250014\n",
      "  -0.12014431]\n",
      " [ 4.77108809  0.01200014  4.72416461 ...  2.52680914  2.05250014\n",
      "  -0.12014431]]\n"
     ]
    }
   ],
   "source": [
    "\n",
    "\n",
    "# print(df.head())\n",
    "dOld = df.copy()\n",
    "dLogit = df.copy()\n",
    "# get columns\n",
    "nr = len(df)\n",
    "print(nr)\n",
    "# transform to the logit form\n",
    "for col in  df.columns:\n",
    "    var = df[col].copy()\n",
    "    freq = var.value_counts().to_dict()\n",
    "    # print(freq)\n",
    "    # compute logit\n",
    "    for key in freq.keys():\n",
    "        # print(key)\n",
    "        prob = freq[key] / float(nr)\n",
    "        logitval = math.log(prob/(1.0-prob))\n",
    "        # print(logitval)\n",
    "        var = var.replace(to_replace=key,value=logitval)\n",
    "        # print(var)\n",
    "    # print(freq)\n",
    "    # replace column values to freq\n",
    "    dLogit[col] = var\n",
    "\n",
    "print(dLogit.head())\n",
    "print(df.head())\n",
    "arrLogit = dLogit.to_numpy()\n",
    "print(arrLogit)\n",
    "dLogit.to_csv('../data/asiaLogit.csv')\n"
   ]
  },
  {
   "cell_type": "code",
   "execution_count": 6,
   "metadata": {},
   "outputs": [
    {
     "name": "stdout",
     "output_type": "stream",
     "text": [
      "[[ 4.77108809  0.01200014  4.72416461 ...  2.52680914  2.05250014\n",
      "  -0.12014431]\n",
      " [ 4.77108809  0.01200014  4.72416461 ...  2.52680914  2.05250014\n",
      "   0.12014431]\n",
      " [ 4.77108809 -0.01200014 -4.72416461 ... -2.52680914 -2.05250014\n",
      "  -0.12014431]\n",
      " ...\n",
      " [ 4.77108809 -0.01200014  4.72416461 ...  2.52680914  2.05250014\n",
      "   0.12014431]\n",
      " [ 4.77108809  0.01200014  4.72416461 ...  2.52680914  2.05250014\n",
      "  -0.12014431]\n",
      " [ 4.77108809  0.01200014  4.72416461 ...  2.52680914  2.05250014\n",
      "  -0.12014431]]\n"
     ]
    }
   ],
   "source": [
    "# convert to nparray\n",
    "arr = df.to_numpy()\n",
    "arrFloat = arr.astype('float')\n",
    "print(arr)"
   ]
  },
  {
   "cell_type": "code",
   "execution_count": 45,
   "metadata": {},
   "outputs": [
    {
     "data": {
      "application/vnd.jupyter.widget-view+json": {
       "model_id": "55f022f03e174a18ace20eb84303323c",
       "version_major": 2,
       "version_minor": 0
      },
      "text/plain": [
       "  0%|          | 0/180000.0 [00:00<?, ?it/s]"
      ]
     },
     "metadata": {},
     "output_type": "display_data"
    }
   ],
   "source": [
    "# treating as categorical data\n",
    "model = DagmaLinear(loss_type='logistic') # create a linear model with least squares loss\n",
    "W_est = model.fit(arr,lambda1=0.005) # fit the model with L1 reg. (coeff. 0.02)"
   ]
  },
  {
   "cell_type": "code",
   "execution_count": 7,
   "metadata": {},
   "outputs": [
    {
     "ename": "",
     "evalue": "",
     "output_type": "error",
     "traceback": [
      "\u001b[1;31mThe Kernel crashed while executing code in the the current cell or a previous cell. Please review the code in the cell(s) to identify a possible cause of the failure. Click <a href='https://aka.ms/vscodeJupyterKernelCrash'>here</a> for more info. View Jupyter <a href='command:jupyter.viewOutput'>log</a> for further details."
     ]
    }
   ],
   "source": [
    "# treating as continuous data\n",
    "model = DagmaLinear(loss_type='l2') # create a linear model with least squares loss\n",
    "W_est = model.fit(arrFloat,lambda1=0.02) # fit the model with L1 reg. (coeff. 0.02)\n"
   ]
  },
  {
   "cell_type": "code",
   "execution_count": null,
   "metadata": {},
   "outputs": [
    {
     "ename": "",
     "evalue": "",
     "output_type": "error",
     "traceback": [
      "\u001b[1;31mThe Kernel crashed while executing code in the the current cell or a previous cell. Please review the code in the cell(s) to identify a possible cause of the failure. Click <a href='https://aka.ms/vscodeJupyterKernelCrash'>here</a> for more info. View Jupyter <a href='command:jupyter.viewOutput'>log</a> for further details."
     ]
    }
   ],
   "source": [
    "# treating as logit continous data\n",
    "model = DagmaLinear(loss_type='l2') # create a linear model with least squares loss\n",
    "W_est = model.fit(arrLogit,lambda1=0.02) # fit the model with L1 reg. (coeff. 0.02)\n"
   ]
  },
  {
   "cell_type": "code",
   "execution_count": 46,
   "metadata": {},
   "outputs": [
    {
     "data": {
      "image/png": "[encoded data removed]",
      "text/plain": [
       "<Figure size 432x288 with 1 Axes>"
      ]
     },
     "metadata": {},
     "output_type": "display_data"
    }
   ],
   "source": [
    "# print(W_est)\n",
    "graph = nx.DiGraph()\n",
    "# iterating the columns\n",
    "nodeNames = df.columns.to_numpy()\n",
    "# print(nodeNames)\n",
    "# for col in df.columns:\n",
    "#     print(col)\n",
    "rows = int(W_est.size/nodeNames.size)\n",
    "# print(rows)\n",
    "for r in range(rows):\n",
    "    row = W_est[r]\n",
    "    # print(r)\n",
    "    for c in range(row.size):\n",
    "        val = W_est[r,c]\n",
    "        if val != 0.0:\n",
    "            # print(val)\n",
    "            graph.add_edge(nodeNames[r],nodeNames[c],weight = val)\n",
    "\n",
    "\n",
    "plt.tight_layout()\n",
    "nx.draw_networkx(graph, arrows=True)"
   ]
  },
  {
   "cell_type": "code",
   "execution_count": 3,
   "metadata": {},
   "outputs": [
    {
     "name": "stderr",
     "output_type": "stream",
     "text": [
      "C:\\Users\\dell\\AppData\\Roaming\\Python\\Python39\\site-packages\\pandas\\core\\computation\\expressions.py:21: UserWarning: Pandas requires version '2.8.0' or newer of 'numexpr' (version '2.7.3' currently installed).\n",
      "  from pandas.core.computation.check import NUMEXPR_INSTALLED\n",
      "C:\\Users\\dell\\AppData\\Roaming\\Python\\Python39\\site-packages\\pandas\\core\\arrays\\masked.py:62: UserWarning: Pandas requires version '1.3.4' or newer of 'bottleneck' (version '1.3.2' currently installed).\n",
      "  from pandas.core import (\n"
     ]
    },
    {
     "name": "stdout",
     "output_type": "stream",
     "text": [
      "<_csv.reader object at 0x0000023CEF8DDE20>\n"
     ]
    }
   ],
   "source": [
    "utils.set_random_seed(1)\n",
    "# Create an Erdos-Renyi DAG of 20 nodes and 20 edges in expectation with Gaussian noise\n",
    "# number of samples n = 500\n",
    "n, d, s0 = 500, 20, 20 \n",
    "graph_type, sem_type = 'ER', 'gauss'\n",
    "\n",
    "B_true = utils.simulate_dag(d, s0, graph_type)\n",
    "W_true = utils.simulate_parameter(B_true)\n",
    "X = utils.simulate_linear_sem(W_true, n, sem_type)\n",
    "\n"
   ]
  },
  {
   "attachments": {},
   "cell_type": "markdown",
   "metadata": {},
   "source": [
    "### Test Linear Model"
   ]
  },
  {
   "cell_type": "code",
   "execution_count": 8,
   "metadata": {},
   "outputs": [
    {
     "data": {
      "application/vnd.jupyter.widget-view+json": {
       "model_id": "7ea8de21489b46d79157b9158522f32f",
       "version_major": 2,
       "version_minor": 0
      },
      "text/plain": [
       "  0%|          | 0/180000.0 [00:00<?, ?it/s]"
      ]
     },
     "metadata": {},
     "output_type": "display_data"
    },
    {
     "name": "stdout",
     "output_type": "stream",
     "text": [
      "{'fdr': 0.0, 'tpr': 1.0, 'fpr': 0.0, 'shd': 0, 'nnz': 20}\n"
     ]
    }
   ],
   "source": [
    "model = DagmaLinear(loss_type='l2') # create a linear model with least squares loss\n",
    "W_est = model.fit(X, lambda1=0.02) # fit the model with L1 reg. (coeff. 0.02)\n",
    "acc = utils.count_accuracy(B_true, W_est != 0) # compute metrics of estimated adjacency matrix W_est with ground-truth\n",
    "print(acc)"
   ]
  },
  {
   "attachments": {},
   "cell_type": "markdown",
   "metadata": {},
   "source": [
    "### Test Nonlinear Model"
   ]
  },
  {
   "cell_type": "code",
   "execution_count": 9,
   "metadata": {},
   "outputs": [
    {
     "data": {
      "application/vnd.jupyter.widget-view+json": {
       "model_id": "02c77ea8a2214cf494e499a50433b7f2",
       "version_major": 2,
       "version_minor": 0
      },
      "text/plain": [
       "  0%|          | 0/230000.0 [00:00<?, ?it/s]"
      ]
     },
     "metadata": {},
     "output_type": "display_data"
    },
    {
     "name": "stdout",
     "output_type": "stream",
     "text": [
      "{'fdr': 0.0, 'tpr': 1.0, 'fpr': 0.0, 'shd': 0, 'nnz': 20}\n"
     ]
    }
   ],
   "source": [
    "# note: using torch.double instead of torch.float gives better result for larger num of nodes\n",
    "eq_model = DagmaMLP(dims=[d, 10, 1], bias=True, dtype=torch.double) # create the model for the structural equations, in this case MLPs\n",
    "model = DagmaNonlinear(eq_model, dtype=torch.double) # create the model for DAG learning\n",
    "W_est = model.fit(X, lambda1=0.02, lambda2=0.005) # fit the model with L1 reg. (coeff. 0.02) and L2 reg. (coeff. 0.005)\n",
    "acc = utils.count_accuracy(B_true, W_est != 0) # compute metrics of estimated adjacency matrix W_est with ground-truth\n",
    "print(acc)"
   ]
  }
 ],
 "metadata": {
  "kernelspec": {
   "display_name": "Python 3",
   "language": "python",
   "name": "python3"
  },
  "language_info": {
   "codemirror_mode": {
    "name": "ipython",
    "version": 3
   },
   "file_extension": ".py",
   "mimetype": "text/x-python",
   "name": "python",
   "nbconvert_exporter": "python",
   "pygments_lexer": "ipython3",
   "version": "3.9.12"
  },
  "orig_nbformat": 4
 },
 "nbformat": 4,
 "nbformat_minor": 2
}
